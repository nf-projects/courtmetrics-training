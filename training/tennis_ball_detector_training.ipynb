{
 "cells": [
  {
   "cell_type": "code",
   "execution_count": null,
   "metadata": {},
   "outputs": [],
   "source": [
    "!py -m pip install roboflow\n",
    "!py -m pip install ultralytics\n",
    "\n",
    "from roboflow import Roboflow\n",
    "rf = Roboflow(api_key=\"Ay36wAuvi8rFXJdb3M79\")\n",
    "project = rf.workspace(\"viren-dhanwani\").project(\"tennis-ball-detection\")\n",
    "version = project.version(6)\n",
    "dataset = version.download(\"yolov5\")\n",
    "\n",
    "# wrangle the dataset - we need to move the images into another subfolderfolder\n",
    "import shutil\n",
    "\n",
    "shutil.move(\"tennis-ball-detection-6/train\", \n",
    "            \"tennis-ball-detection-6/tennis-ball-detection-6/train\")\n",
    "\n",
    "\n",
    "shutil.move(\"tennis-ball-detection-6/test\", \n",
    "            \"tennis-ball-detection-6/tennis-ball-detection-6/test\")\n",
    "\n",
    "\n",
    "shutil.move(\"tennis-ball-detection-6/valid\", \n",
    "            \"tennis-ball-detection-6/tennis-ball-detection-6/valid\")"
   ]
  },
  {
   "cell_type": "code",
   "execution_count": null,
   "metadata": {},
   "outputs": [],
   "source": [
    "print(dataset.location)\n",
    "\n",
    "!yolo task=detect mode=train model=yolov5l6u.pt data={dataset.location}/data.yaml epochs=100 imgsz=640 "
   ]
  }
 ],
 "metadata": {
  "kernelspec": {
   "display_name": "cv_env",
   "language": "python",
   "name": "python3"
  },
  "language_info": {
   "codemirror_mode": {
    "name": "ipython",
    "version": 3
   },
   "file_extension": ".py",
   "mimetype": "text/x-python",
   "name": "python",
   "nbconvert_exporter": "python",
   "pygments_lexer": "ipython3",
   "version": "3.12.2"
  }
 },
 "nbformat": 4,
 "nbformat_minor": 2
}
